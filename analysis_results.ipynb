{
 "cells": [
  {
   "cell_type": "markdown",
   "id": "6617180d",
   "metadata": {},
   "source": [
    "# Replication for results"
   ]
  },
  {
   "cell_type": "code",
   "execution_count": 1,
   "id": "231f7bd0",
   "metadata": {},
   "outputs": [],
   "source": [
    "import pandas as pd\n",
    "import numpy as np\n",
    "import pickle\n",
    "import sys\n",
    "from sklearn.feature_extraction.text import TfidfVectorizer\n",
    "import nltk\n",
    "from nltk.stem.porter import *\n",
    "import string\n",
    "import re\n",
    "from vaderSentiment.vaderSentiment import SentimentIntensityAnalyzer as VS\n",
    "from textstat.textstat import *\n",
    "from sklearn.linear_model import LogisticRegression\n",
    "from sklearn.feature_selection import SelectFromModel\n",
    "from sklearn.metrics import classification_report\n",
    "from sklearn.svm import LinearSVC\n",
    "import matplotlib.pyplot as plt\n",
    "import seaborn\n",
    "%matplotlib inline"
   ]
  },
  {
   "cell_type": "markdown",
   "id": "0b145d38",
   "metadata": {},
   "source": [
    "## Loading the data "
   ]
  },
  {
   "cell_type": "code",
   "execution_count": 2,
   "id": "b5550f5b",
   "metadata": {},
   "outputs": [],
   "source": [
    "data = pd.read_csv(\"../data/labeled_dataset.csv\")"
   ]
  },
  {
   "cell_type": "code",
   "execution_count": 3,
   "id": "3669bf9f",
   "metadata": {},
   "outputs": [
    {
     "data": {
      "text/html": [
       "<div>\n",
       "<style scoped>\n",
       "    .dataframe tbody tr th:only-of-type {\n",
       "        vertical-align: middle;\n",
       "    }\n",
       "\n",
       "    .dataframe tbody tr th {\n",
       "        vertical-align: top;\n",
       "    }\n",
       "\n",
       "    .dataframe thead th {\n",
       "        text-align: right;\n",
       "    }\n",
       "</style>\n",
       "<table border=\"1\" class=\"dataframe\">\n",
       "  <thead>\n",
       "    <tr style=\"text-align: right;\">\n",
       "      <th></th>\n",
       "      <th>Unnamed: 0</th>\n",
       "      <th>track_name</th>\n",
       "      <th>track_artist</th>\n",
       "      <th>lyrics</th>\n",
       "      <th>genre</th>\n",
       "      <th>tempo</th>\n",
       "      <th>energy</th>\n",
       "      <th>loudness</th>\n",
       "      <th>label</th>\n",
       "    </tr>\n",
       "  </thead>\n",
       "  <tbody>\n",
       "    <tr>\n",
       "      <th>0</th>\n",
       "      <td>0</td>\n",
       "      <td>Baby It's Cold Outside (feat. Christina Aguilera)</td>\n",
       "      <td>CeeLo Green</td>\n",
       "      <td>I really can't stay Baby it's cold outside I'v...</td>\n",
       "      <td>r&amp;b</td>\n",
       "      <td>118.593</td>\n",
       "      <td>0.378</td>\n",
       "      <td>-5.819</td>\n",
       "      <td>1</td>\n",
       "    </tr>\n",
       "    <tr>\n",
       "      <th>1</th>\n",
       "      <td>1</td>\n",
       "      <td>Changes</td>\n",
       "      <td>2Pac</td>\n",
       "      <td>I see no changes, wake up in the morning and I...</td>\n",
       "      <td>rap</td>\n",
       "      <td>111.115</td>\n",
       "      <td>0.657</td>\n",
       "      <td>-6.722</td>\n",
       "      <td>2</td>\n",
       "    </tr>\n",
       "    <tr>\n",
       "      <th>2</th>\n",
       "      <td>2</td>\n",
       "      <td>Laps</td>\n",
       "      <td>Zotiyac</td>\n",
       "      <td>I'mma make your CXRPSE dance Ugh, hop in that ...</td>\n",
       "      <td>rap</td>\n",
       "      <td>140.132</td>\n",
       "      <td>0.453</td>\n",
       "      <td>-9.965</td>\n",
       "      <td>0</td>\n",
       "    </tr>\n",
       "    <tr>\n",
       "      <th>3</th>\n",
       "      <td>3</td>\n",
       "      <td>Hot</td>\n",
       "      <td>Confetti</td>\n",
       "      <td>(Yeah) I'm the new truth, the crypto Erry'body...</td>\n",
       "      <td>pop</td>\n",
       "      <td>168.015</td>\n",
       "      <td>0.908</td>\n",
       "      <td>-3.883</td>\n",
       "      <td>1</td>\n",
       "    </tr>\n",
       "    <tr>\n",
       "      <th>4</th>\n",
       "      <td>4</td>\n",
       "      <td>Love Sosa</td>\n",
       "      <td>Chief Keef</td>\n",
       "      <td>Fuckers in school telling me, always in the ba...</td>\n",
       "      <td>rap</td>\n",
       "      <td>131.965</td>\n",
       "      <td>0.413</td>\n",
       "      <td>-8.193</td>\n",
       "      <td>0</td>\n",
       "    </tr>\n",
       "    <tr>\n",
       "      <th>...</th>\n",
       "      <td>...</td>\n",
       "      <td>...</td>\n",
       "      <td>...</td>\n",
       "      <td>...</td>\n",
       "      <td>...</td>\n",
       "      <td>...</td>\n",
       "      <td>...</td>\n",
       "      <td>...</td>\n",
       "      <td>...</td>\n",
       "    </tr>\n",
       "    <tr>\n",
       "      <th>1761</th>\n",
       "      <td>1761</td>\n",
       "      <td>Coastin'</td>\n",
       "      <td>Cali Life Style</td>\n",
       "      <td>Mike G, why don't you drop us somethin' else? ...</td>\n",
       "      <td>latin</td>\n",
       "      <td>169.892</td>\n",
       "      <td>0.473</td>\n",
       "      <td>-11.115</td>\n",
       "      <td>2</td>\n",
       "    </tr>\n",
       "    <tr>\n",
       "      <th>1762</th>\n",
       "      <td>1762</td>\n",
       "      <td>I'm A G</td>\n",
       "      <td>Rick Ross</td>\n",
       "      <td>Uh I wear a gun like a girdle Bullet proof car...</td>\n",
       "      <td>rap</td>\n",
       "      <td>103.239</td>\n",
       "      <td>0.685</td>\n",
       "      <td>-6.835</td>\n",
       "      <td>0</td>\n",
       "    </tr>\n",
       "    <tr>\n",
       "      <th>1763</th>\n",
       "      <td>1763</td>\n",
       "      <td>Slutty Girls</td>\n",
       "      <td>Mr. Knightowl</td>\n",
       "      <td>I was riding in my rola That's when I spotted ...</td>\n",
       "      <td>latin</td>\n",
       "      <td>114.992</td>\n",
       "      <td>0.555</td>\n",
       "      <td>-6.367</td>\n",
       "      <td>1</td>\n",
       "    </tr>\n",
       "    <tr>\n",
       "      <th>1764</th>\n",
       "      <td>1764</td>\n",
       "      <td>Work REMIX (feat. A$AP Rocky, French Montana, ...</td>\n",
       "      <td>A$AP Ferg</td>\n",
       "      <td>I gotta close the window before I record ‘Caus...</td>\n",
       "      <td>rap</td>\n",
       "      <td>130.009</td>\n",
       "      <td>0.733</td>\n",
       "      <td>-5.077</td>\n",
       "      <td>0</td>\n",
       "    </tr>\n",
       "    <tr>\n",
       "      <th>1765</th>\n",
       "      <td>1765</td>\n",
       "      <td>I'll Do 4 U (Re-Recorded / Remastered)</td>\n",
       "      <td>Father MC</td>\n",
       "      <td>(Would you do for me) Sweetheart (Would you do...</td>\n",
       "      <td>r&amp;b</td>\n",
       "      <td>109.536</td>\n",
       "      <td>0.666</td>\n",
       "      <td>-4.920</td>\n",
       "      <td>2</td>\n",
       "    </tr>\n",
       "  </tbody>\n",
       "</table>\n",
       "<p>1766 rows × 9 columns</p>\n",
       "</div>"
      ],
      "text/plain": [
       "      Unnamed: 0                                         track_name  \\\n",
       "0              0  Baby It's Cold Outside (feat. Christina Aguilera)   \n",
       "1              1                                            Changes   \n",
       "2              2                                               Laps   \n",
       "3              3                                                Hot   \n",
       "4              4                                          Love Sosa   \n",
       "...          ...                                                ...   \n",
       "1761        1761                                           Coastin'   \n",
       "1762        1762                                            I'm A G   \n",
       "1763        1763                                       Slutty Girls   \n",
       "1764        1764  Work REMIX (feat. A$AP Rocky, French Montana, ...   \n",
       "1765        1765             I'll Do 4 U (Re-Recorded / Remastered)   \n",
       "\n",
       "         track_artist                                             lyrics  \\\n",
       "0         CeeLo Green  I really can't stay Baby it's cold outside I'v...   \n",
       "1                2Pac  I see no changes, wake up in the morning and I...   \n",
       "2             Zotiyac  I'mma make your CXRPSE dance Ugh, hop in that ...   \n",
       "3            Confetti  (Yeah) I'm the new truth, the crypto Erry'body...   \n",
       "4          Chief Keef  Fuckers in school telling me, always in the ba...   \n",
       "...               ...                                                ...   \n",
       "1761  Cali Life Style  Mike G, why don't you drop us somethin' else? ...   \n",
       "1762        Rick Ross  Uh I wear a gun like a girdle Bullet proof car...   \n",
       "1763    Mr. Knightowl  I was riding in my rola That's when I spotted ...   \n",
       "1764        A$AP Ferg  I gotta close the window before I record ‘Caus...   \n",
       "1765        Father MC  (Would you do for me) Sweetheart (Would you do...   \n",
       "\n",
       "      genre    tempo  energy  loudness  label  \n",
       "0       r&b  118.593   0.378    -5.819      1  \n",
       "1       rap  111.115   0.657    -6.722      2  \n",
       "2       rap  140.132   0.453    -9.965      0  \n",
       "3       pop  168.015   0.908    -3.883      1  \n",
       "4       rap  131.965   0.413    -8.193      0  \n",
       "...     ...      ...     ...       ...    ...  \n",
       "1761  latin  169.892   0.473   -11.115      2  \n",
       "1762    rap  103.239   0.685    -6.835      0  \n",
       "1763  latin  114.992   0.555    -6.367      1  \n",
       "1764    rap  130.009   0.733    -5.077      0  \n",
       "1765    r&b  109.536   0.666    -4.920      2  \n",
       "\n",
       "[1766 rows x 9 columns]"
      ]
     },
     "execution_count": 3,
     "metadata": {},
     "output_type": "execute_result"
    }
   ],
   "source": [
    "data"
   ]
  },
  {
   "cell_type": "code",
   "execution_count": 4,
   "id": "076112dc",
   "metadata": {},
   "outputs": [
    {
     "data": {
      "text/html": [
       "<div>\n",
       "<style scoped>\n",
       "    .dataframe tbody tr th:only-of-type {\n",
       "        vertical-align: middle;\n",
       "    }\n",
       "\n",
       "    .dataframe tbody tr th {\n",
       "        vertical-align: top;\n",
       "    }\n",
       "\n",
       "    .dataframe thead th {\n",
       "        text-align: right;\n",
       "    }\n",
       "</style>\n",
       "<table border=\"1\" class=\"dataframe\">\n",
       "  <thead>\n",
       "    <tr style=\"text-align: right;\">\n",
       "      <th></th>\n",
       "      <th>Unnamed: 0</th>\n",
       "      <th>tempo</th>\n",
       "      <th>energy</th>\n",
       "      <th>loudness</th>\n",
       "      <th>label</th>\n",
       "    </tr>\n",
       "  </thead>\n",
       "  <tbody>\n",
       "    <tr>\n",
       "      <th>count</th>\n",
       "      <td>1766.000000</td>\n",
       "      <td>1766.000000</td>\n",
       "      <td>1766.000000</td>\n",
       "      <td>1766.000000</td>\n",
       "      <td>1766.000000</td>\n",
       "    </tr>\n",
       "    <tr>\n",
       "      <th>mean</th>\n",
       "      <td>882.500000</td>\n",
       "      <td>120.354673</td>\n",
       "      <td>0.696657</td>\n",
       "      <td>-6.755136</td>\n",
       "      <td>1.429219</td>\n",
       "    </tr>\n",
       "    <tr>\n",
       "      <th>std</th>\n",
       "      <td>509.944605</td>\n",
       "      <td>28.883439</td>\n",
       "      <td>0.175414</td>\n",
       "      <td>2.947139</td>\n",
       "      <td>0.787528</td>\n",
       "    </tr>\n",
       "    <tr>\n",
       "      <th>min</th>\n",
       "      <td>0.000000</td>\n",
       "      <td>52.654000</td>\n",
       "      <td>0.056100</td>\n",
       "      <td>-24.328000</td>\n",
       "      <td>0.000000</td>\n",
       "    </tr>\n",
       "    <tr>\n",
       "      <th>25%</th>\n",
       "      <td>441.250000</td>\n",
       "      <td>95.922500</td>\n",
       "      <td>0.575000</td>\n",
       "      <td>-8.138500</td>\n",
       "      <td>1.000000</td>\n",
       "    </tr>\n",
       "    <tr>\n",
       "      <th>50%</th>\n",
       "      <td>882.500000</td>\n",
       "      <td>119.963000</td>\n",
       "      <td>0.717000</td>\n",
       "      <td>-6.291000</td>\n",
       "      <td>2.000000</td>\n",
       "    </tr>\n",
       "    <tr>\n",
       "      <th>75%</th>\n",
       "      <td>1323.750000</td>\n",
       "      <td>139.934000</td>\n",
       "      <td>0.835000</td>\n",
       "      <td>-4.704750</td>\n",
       "      <td>2.000000</td>\n",
       "    </tr>\n",
       "    <tr>\n",
       "      <th>max</th>\n",
       "      <td>1765.000000</td>\n",
       "      <td>207.992000</td>\n",
       "      <td>1.000000</td>\n",
       "      <td>-1.304000</td>\n",
       "      <td>2.000000</td>\n",
       "    </tr>\n",
       "  </tbody>\n",
       "</table>\n",
       "</div>"
      ],
      "text/plain": [
       "        Unnamed: 0        tempo       energy     loudness        label\n",
       "count  1766.000000  1766.000000  1766.000000  1766.000000  1766.000000\n",
       "mean    882.500000   120.354673     0.696657    -6.755136     1.429219\n",
       "std     509.944605    28.883439     0.175414     2.947139     0.787528\n",
       "min       0.000000    52.654000     0.056100   -24.328000     0.000000\n",
       "25%     441.250000    95.922500     0.575000    -8.138500     1.000000\n",
       "50%     882.500000   119.963000     0.717000    -6.291000     2.000000\n",
       "75%    1323.750000   139.934000     0.835000    -4.704750     2.000000\n",
       "max    1765.000000   207.992000     1.000000    -1.304000     2.000000"
      ]
     },
     "execution_count": 4,
     "metadata": {},
     "output_type": "execute_result"
    }
   ],
   "source": [
    "data.describe()"
   ]
  },
  {
   "cell_type": "code",
   "execution_count": 5,
   "id": "9b46d9b8",
   "metadata": {},
   "outputs": [
    {
     "data": {
      "text/plain": [
       "Index(['Unnamed: 0', 'track_name', 'track_artist', 'lyrics', 'genre', 'tempo',\n",
       "       'energy', 'loudness', 'label'],\n",
       "      dtype='object')"
      ]
     },
     "execution_count": 5,
     "metadata": {},
     "output_type": "execute_result"
    }
   ],
   "source": [
    "data.columns"
   ]
  },
  {
   "cell_type": "markdown",
   "id": "c057f3d9",
   "metadata": {},
   "source": [
    "### Columns key:\n",
    "\n",
    "track_name = Song Name\n",
    "\n",
    "track_artist = Song Artist\n",
    "\n",
    "lyrics = raw lyrics text for the song\n",
    "\n",
    "genre = Playlist genre\n",
    "\n",
    "tempo = The overall estimated tempo of a track in beats per minute (BPM). In musical terminology, tempo is the speed or pace of a given piece and derives directly from the average beat duration.\n",
    "\n",
    "energy = Energy is a measure from 0.0 to 1.0 and represents a perceptual measure of intensity and activity. Typically, energetic tracks feel fast, loud, and noisy. For example, death metal has high energy, while a Bach prelude scores low on the scale. Perceptual features contributing to this attribute include dynamic range, perceived loudness, timbre, onset rate, and general entropy.\n",
    "\n",
    "loudness = The overall loudness of a track in decibels (dB). Loudness values are averaged across the entire track and are useful for comparing relative loudness of tracks. Loudness is the quality of a sound that is the primary psychological correlate of physical strength (amplitude). Values typical range between -60 and 0 db.\n",
    "\n",
    "label =  0 - hate speech,\n",
    "         1 - offensive  language,\n",
    "         2 - neither\n",
    "\n"
   ]
  },
  {
   "cell_type": "code",
   "execution_count": 6,
   "id": "4199630d",
   "metadata": {},
   "outputs": [
    {
     "data": {
      "text/plain": [
       "<AxesSubplot:>"
      ]
     },
     "execution_count": 6,
     "metadata": {},
     "output_type": "execute_result"
    },
    {
     "data": {
      "image/png": "[encoded data removed]",
      "text/plain": [
       "<Figure size 432x288 with 1 Axes>"
      ]
     },
     "metadata": {
      "needs_background": "light"
     },
     "output_type": "display_data"
    }
   ],
   "source": [
    "data['label'].hist() #wahre Label aus dem gesamten Set"
   ]
  },
  {
   "cell_type": "code",
   "execution_count": 7,
   "id": "3c024ffd",
   "metadata": {},
   "outputs": [],
   "source": [
    "lyrics = data.lyrics"
   ]
  },
  {
   "cell_type": "markdown",
   "id": "a7c54f87",
   "metadata": {},
   "source": [
    "## Feature generation"
   ]
  },
  {
   "cell_type": "code",
   "execution_count": 8,
   "id": "dca34766",
   "metadata": {},
   "outputs": [],
   "source": [
    "stopwords=stopwords = nltk.corpus.stopwords.words(\"english\")\n",
    "\n",
    "other_exclusions = []\n",
    "stopwords.extend(other_exclusions)\n",
    "\n",
    "stemmer = PorterStemmer()\n",
    "\n",
    "\n",
    "def preprocess(text_string):\n",
    "    \"\"\"\n",
    "    Accepts a text string and replaces:\n",
    "    1) lots of whitespace with one instance\n",
    "\n",
    "    This allows us to get standardized counts of urls and mentions\n",
    "    Without caring about specific people mentioned\n",
    "    \"\"\"\n",
    "    space_pattern = '\\s+'\n",
    "    parsed_text = re.sub(space_pattern, ' ', text_string)\n",
    "    #parsed_text = parsed_text.code(\"utf-8\", errors='ignore')\n",
    "    return parsed_text\n",
    "\n",
    "def tokenize(lyrics):\n",
    "    \"\"\"Removes punctuation & excess whitespace, sets to lowercase,\n",
    "    and stems tweets. Returns a list of stemmed tokens.\"\"\"\n",
    "    tweet = \" \".join(re.split(\"[^a-zA-Z]*\", lyrics.lower())).strip()\n",
    "    #tokens = re.split(\"[^a-zA-Z]*\", lyrics.lower())\n",
    "    tokens = [stemmer.stem(t) for t in lyrics.split()]\n",
    "    return tokens\n",
    "\n",
    "def basic_tokenize(lyrics):\n",
    "    \"\"\"Same as tokenize but without the stemming\"\"\"\n",
    "    lyrics = \" \".join(re.split(\"[^a-zA-Z.,!?]*\", lyrics.lower())).strip()\n",
    "    return lyrics.split()\n",
    "\n",
    "vectorizer = TfidfVectorizer(\n",
    "    #vectorizer = sklearn.feature_extraction.text.CountVectorizer(\n",
    "    tokenizer=tokenize,\n",
    "    preprocessor=preprocess,\n",
    "    ngram_range=(1, 3),\n",
    "    stop_words=stopwords, #We do better when we keep stopwords\n",
    "    use_idf=True,\n",
    "    smooth_idf=False,\n",
    "    norm=None, #Applies l2 norm smoothing\n",
    "    decode_error='replace',\n",
    "    max_features=10000,\n",
    "    min_df=5,\n",
    "    max_df=0.501\n",
    "    )"
   ]
  },
  {
   "cell_type": "code",
   "execution_count": 9,
   "id": "c8526eb5",
   "metadata": {},
   "outputs": [],
   "source": [
    "import warnings\n",
    "warnings.simplefilter(action='ignore', category=FutureWarning)"
   ]
  },
  {
   "cell_type": "code",
   "execution_count": 10,
   "id": "1e684f2d",
   "metadata": {},
   "outputs": [
    {
     "name": "stderr",
     "output_type": "stream",
     "text": [
      "C:\\Users\\Nina\\anaconda3\\lib\\site-packages\\sklearn\\feature_extraction\\text.py:388: UserWarning: Your stop_words may be inconsistent with your preprocessing. Tokenizing the stop words generated tokens ['abov', 'ani', 'becaus', 'befor', 'doe', 'dure', 'ha', 'hi', \"it'\", 'onc', 'onli', 'ourselv', \"she'\", \"should'v\", 'themselv', 'thi', 'veri', 'wa', 'whi', \"you'r\", \"you'v\", 'yourselv'] not in stop_words.\n",
      "  warnings.warn('Your stop_words may be inconsistent with '\n"
     ]
    }
   ],
   "source": [
    "#Construct tfidf matrix and get relevant scores\n",
    "tfidf = vectorizer.fit_transform(lyrics).toarray()\n",
    "vocab = {v:i for i, v in enumerate(vectorizer.get_feature_names())}\n",
    "idf_vals = vectorizer.idf_\n",
    "idf_dict = {i:idf_vals[i] for i in vocab.values()} #keys are indices; values are IDF scores"
   ]
  },
  {
   "cell_type": "code",
   "execution_count": 11,
   "id": "efaa2c31",
   "metadata": {},
   "outputs": [],
   "source": [
    "#Get POS tags for lyrics and save as a string\n",
    "lyrics_tags = []\n",
    "for l in lyrics:\n",
    "    tokens = basic_tokenize(preprocess(l))\n",
    "    tags = nltk.pos_tag(tokens)\n",
    "    tag_list = [x[1] for x in tags]\n",
    "    #for l in range(0, len(tokens)):\n",
    "    tag_str = \" \".join(tag_list)\n",
    "    lyrics_tags.append(tag_str)\n",
    "        #print(tokens[l],tag_list[l])"
   ]
  },
  {
   "cell_type": "code",
   "execution_count": 12,
   "id": "75a93df2",
   "metadata": {},
   "outputs": [],
   "source": [
    "#We can use the TFIDF vectorizer to get a token matrix for the POS tags\n",
    "pos_vectorizer = TfidfVectorizer(\n",
    "    #vectorizer = sklearn.feature_extraction.text.CountVectorizer(\n",
    "    tokenizer=None,\n",
    "    lowercase=False,\n",
    "    preprocessor=None,\n",
    "    ngram_range=(1, 3),\n",
    "    stop_words=None, #We do better when we keep stopwords\n",
    "    use_idf=False,\n",
    "    smooth_idf=False,\n",
    "    norm=None, #Applies l2 norm smoothing\n",
    "    decode_error='replace',\n",
    "    max_features=5000,\n",
    "    min_df=5,\n",
    "    max_df=0.501,\n",
    "    )"
   ]
  },
  {
   "cell_type": "code",
   "execution_count": 13,
   "id": "fbea4962",
   "metadata": {},
   "outputs": [],
   "source": [
    "#Construct POS TF matrix and get vocab dict\n",
    "pos = pos_vectorizer.fit_transform(pd.Series(lyrics_tags)).toarray()\n",
    "pos_vocab = {v:i for i, v in enumerate(pos_vectorizer.get_feature_names())}"
   ]
  },
  {
   "cell_type": "code",
   "execution_count": 14,
   "id": "7e49e9ca",
   "metadata": {},
   "outputs": [],
   "source": [
    "#!pip install vaderSentiment\n",
    "#!pip install textstat"
   ]
  },
  {
   "cell_type": "code",
   "execution_count": 15,
   "id": "130bdf80",
   "metadata": {},
   "outputs": [],
   "source": [
    "#Now get other features\n",
    "\n",
    "sentiment_analyzer = VS()\n",
    "\n",
    "def other_features(lyrics):\n",
    "    \"\"\"This function takes a string and returns a list of features.\n",
    "    These include Sentiment scores, Text and Readability scores,\n",
    "    as well as Twitter specific features\"\"\"\n",
    "    ##SENTIMENT\n",
    "    sentiment = sentiment_analyzer.polarity_scores(lyrics)\n",
    "    \n",
    "    words = preprocess(lyrics) #Get text only\n",
    "    \n",
    "    syllables = textstat.syllable_count(words) #count syllables in words\n",
    "    num_chars = sum(len(w) for w in words) #num chars in words\n",
    "    num_chars_total = len(lyrics)\n",
    "    num_terms = len(lyrics.split())\n",
    "    num_words = len(words.split())\n",
    "    avg_syl = round(float((syllables+0.001))/float(num_words+0.001),4)\n",
    "    num_unique_terms = len(set(words.split()))\n",
    "    \n",
    "    ###Modified FK grade, where avg words per sentence is just num words/1\n",
    "    FKRA = round(float(0.39 * float(num_words)/1.0) + float(11.8 * avg_syl) - 15.59,1)\n",
    "    ##Modified FRE score, where sentence fixed to 1\n",
    "    FRE = round(206.835 - 1.015*(float(num_words)/1.0) - (84.6*float(avg_syl)),2)\n",
    "    \n",
    "    \n",
    "    features = [FKRA, FRE,syllables, avg_syl, num_chars, num_chars_total, num_terms, num_words,\n",
    "               num_unique_terms, sentiment['neg'], sentiment['pos'], sentiment['neu'], sentiment['compound']]\n",
    "    #features = pd.DataFrame(features)\n",
    "    return features\n",
    "\n",
    "def get_feature_array(lyrics):\n",
    "    feats=[]\n",
    "    for l in lyrics:\n",
    "        feats.append(other_features(l))\n",
    "    return np.array(feats)"
   ]
  },
  {
   "cell_type": "code",
   "execution_count": 16,
   "id": "87ace76b",
   "metadata": {},
   "outputs": [],
   "source": [
    "other_features_names = [\"FKRA\", \"FRE\",\"num_syllables\", \"avg_syl_per_word\", \"num_chars\", \"num_chars_total\", \\\n",
    "                        \"num_terms\", \"num_words\", \"num_unique_words\", \"vader neg\",\"vader pos\",\"vader neu\", \"vader compound\"]"
   ]
  },
  {
   "cell_type": "code",
   "execution_count": 17,
   "id": "7be7cee5",
   "metadata": {},
   "outputs": [
    {
     "data": {
      "text/plain": [
       "[313.4,\n",
       " -709.31,\n",
       " 900,\n",
       " 1.1111,\n",
       " 3671,\n",
       " 3671,\n",
       " 810,\n",
       " 810,\n",
       " 118,\n",
       " 0.015,\n",
       " 0.054,\n",
       " 0.931,\n",
       " 0.981]"
      ]
     },
     "execution_count": 17,
     "metadata": {},
     "output_type": "execute_result"
    }
   ],
   "source": [
    "other_features(lyrics[65])"
   ]
  },
  {
   "cell_type": "code",
   "execution_count": 18,
   "id": "ed74750d",
   "metadata": {},
   "outputs": [],
   "source": [
    "feats = get_feature_array(lyrics)"
   ]
  },
  {
   "cell_type": "code",
   "execution_count": 19,
   "id": "a69d4f14",
   "metadata": {},
   "outputs": [],
   "source": [
    "#Now join them all up\n",
    "M = np.concatenate([tfidf,pos,feats],axis=1)"
   ]
  },
  {
   "cell_type": "code",
   "execution_count": 20,
   "id": "61737465",
   "metadata": {},
   "outputs": [
    {
     "data": {
      "text/plain": [
       "(1766, 10543)"
      ]
     },
     "execution_count": 20,
     "metadata": {},
     "output_type": "execute_result"
    }
   ],
   "source": [
    "M.shape"
   ]
  },
  {
   "cell_type": "code",
   "execution_count": 21,
   "id": "304e3792",
   "metadata": {},
   "outputs": [],
   "source": [
    "#Anmerkung: wir mussten items() statt iteritems() schreiben, weil es das nicht mehr in Python 3 gibt\n",
    "#Finally get a list of variable names\n",
    "variables = ['']*len(vocab)\n",
    "for k,v in vocab.items():\n",
    "    variables[v] = k\n",
    "\n",
    "pos_variables = ['']*len(pos_vocab)\n",
    "for k,v in pos_vocab.items():\n",
    "    pos_variables[v] = k\n",
    "\n",
    "feature_names = variables+pos_variables+other_features_names"
   ]
  },
  {
   "cell_type": "markdown",
   "id": "eaf981b7",
   "metadata": {},
   "source": [
    "## Running the model "
   ]
  },
  {
   "cell_type": "code",
   "execution_count": 74,
   "id": "4de7cf83",
   "metadata": {},
   "outputs": [],
   "source": [
    "X = pd.DataFrame(M)\n",
    "y = data['label'].astype(int)"
   ]
  },
  {
   "cell_type": "code",
   "execution_count": 23,
   "id": "5af6a5ed",
   "metadata": {},
   "outputs": [],
   "source": [
    "from sklearn.model_selection import train_test_split"
   ]
  },
  {
   "cell_type": "code",
   "execution_count": 24,
   "id": "c6b6e73f",
   "metadata": {},
   "outputs": [],
   "source": [
    "#hier wird in Trainings- und Testset aufgeteilt\n",
    "#wir haben noch shuffle=True eingefügt\n",
    "X_train, X_test, y_train, y_test = train_test_split(X, y, random_state=42, test_size=0.3, shuffle=True)"
   ]
  },
  {
   "cell_type": "code",
   "execution_count": 25,
   "id": "65deb6f9",
   "metadata": {},
   "outputs": [],
   "source": [
    "from sklearn.model_selection import StratifiedKFold, GridSearchCV\n",
    "from sklearn.pipeline import Pipeline"
   ]
  },
  {
   "cell_type": "code",
   "execution_count": 26,
   "id": "7fcc9ae4",
   "metadata": {},
   "outputs": [],
   "source": [
    "#Anmerkung: wir haben zusätzlich solver=\"liblinear\" eingefügt, weil sonst L1 nicht unterstützt wird\n",
    "pipe = Pipeline(\n",
    "        [('select', SelectFromModel(LogisticRegression(class_weight='balanced',\n",
    "                                                  penalty=\"l1\", C=0.01, solver='liblinear'))),\n",
    "        ('model', LogisticRegression(class_weight='balanced',penalty='l2'))])"
   ]
  },
  {
   "cell_type": "code",
   "execution_count": 27,
   "id": "6c5a162a",
   "metadata": {},
   "outputs": [],
   "source": [
    "param_grid = [{}] # Optionally add parameters here"
   ]
  },
  {
   "cell_type": "code",
   "execution_count": 28,
   "id": "b56de779",
   "metadata": {},
   "outputs": [],
   "source": [
    "#wir haben noch shuffle=True eingefügt\n",
    "grid_search = GridSearchCV(pipe, \n",
    "                           param_grid,\n",
    "                           cv=StratifiedKFold(n_splits=5, \n",
    "                                              random_state=42, shuffle=True).split(X_train, y_train), \n",
    "                           verbose=2)"
   ]
  },
  {
   "cell_type": "code",
   "execution_count": 29,
   "id": "dd77550c",
   "metadata": {},
   "outputs": [
    {
     "name": "stdout",
     "output_type": "stream",
     "text": [
      "Fitting 5 folds for each of 1 candidates, totalling 5 fits\n"
     ]
    },
    {
     "name": "stderr",
     "output_type": "stream",
     "text": [
      "C:\\Users\\Nina\\anaconda3\\lib\\site-packages\\sklearn\\linear_model\\_logistic.py:763: ConvergenceWarning: lbfgs failed to converge (status=1):\n",
      "STOP: TOTAL NO. of ITERATIONS REACHED LIMIT.\n",
      "\n",
      "Increase the number of iterations (max_iter) or scale the data as shown in:\n",
      "    https://scikit-learn.org/stable/modules/preprocessing.html\n",
      "Please also refer to the documentation for alternative solver options:\n",
      "    https://scikit-learn.org/stable/modules/linear_model.html#logistic-regression\n",
      "  n_iter_i = _check_optimize_result(\n"
     ]
    },
    {
     "name": "stdout",
     "output_type": "stream",
     "text": [
      "[CV] END .................................................... total time=   4.2s\n"
     ]
    },
    {
     "name": "stderr",
     "output_type": "stream",
     "text": [
      "C:\\Users\\Nina\\anaconda3\\lib\\site-packages\\sklearn\\linear_model\\_logistic.py:763: ConvergenceWarning: lbfgs failed to converge (status=1):\n",
      "STOP: TOTAL NO. of ITERATIONS REACHED LIMIT.\n",
      "\n",
      "Increase the number of iterations (max_iter) or scale the data as shown in:\n",
      "    https://scikit-learn.org/stable/modules/preprocessing.html\n",
      "Please also refer to the documentation for alternative solver options:\n",
      "    https://scikit-learn.org/stable/modules/linear_model.html#logistic-regression\n",
      "  n_iter_i = _check_optimize_result(\n"
     ]
    },
    {
     "name": "stdout",
     "output_type": "stream",
     "text": [
      "[CV] END .................................................... total time=   1.2s\n"
     ]
    },
    {
     "name": "stderr",
     "output_type": "stream",
     "text": [
      "C:\\Users\\Nina\\anaconda3\\lib\\site-packages\\sklearn\\linear_model\\_logistic.py:763: ConvergenceWarning: lbfgs failed to converge (status=1):\n",
      "STOP: TOTAL NO. of ITERATIONS REACHED LIMIT.\n",
      "\n",
      "Increase the number of iterations (max_iter) or scale the data as shown in:\n",
      "    https://scikit-learn.org/stable/modules/preprocessing.html\n",
      "Please also refer to the documentation for alternative solver options:\n",
      "    https://scikit-learn.org/stable/modules/linear_model.html#logistic-regression\n",
      "  n_iter_i = _check_optimize_result(\n"
     ]
    },
    {
     "name": "stdout",
     "output_type": "stream",
     "text": [
      "[CV] END .................................................... total time=   1.1s\n"
     ]
    },
    {
     "name": "stderr",
     "output_type": "stream",
     "text": [
      "C:\\Users\\Nina\\anaconda3\\lib\\site-packages\\sklearn\\linear_model\\_logistic.py:763: ConvergenceWarning: lbfgs failed to converge (status=1):\n",
      "STOP: TOTAL NO. of ITERATIONS REACHED LIMIT.\n",
      "\n",
      "Increase the number of iterations (max_iter) or scale the data as shown in:\n",
      "    https://scikit-learn.org/stable/modules/preprocessing.html\n",
      "Please also refer to the documentation for alternative solver options:\n",
      "    https://scikit-learn.org/stable/modules/linear_model.html#logistic-regression\n",
      "  n_iter_i = _check_optimize_result(\n"
     ]
    },
    {
     "name": "stdout",
     "output_type": "stream",
     "text": [
      "[CV] END .................................................... total time=   1.2s\n"
     ]
    },
    {
     "name": "stderr",
     "output_type": "stream",
     "text": [
      "C:\\Users\\Nina\\anaconda3\\lib\\site-packages\\sklearn\\linear_model\\_logistic.py:763: ConvergenceWarning: lbfgs failed to converge (status=1):\n",
      "STOP: TOTAL NO. of ITERATIONS REACHED LIMIT.\n",
      "\n",
      "Increase the number of iterations (max_iter) or scale the data as shown in:\n",
      "    https://scikit-learn.org/stable/modules/preprocessing.html\n",
      "Please also refer to the documentation for alternative solver options:\n",
      "    https://scikit-learn.org/stable/modules/linear_model.html#logistic-regression\n",
      "  n_iter_i = _check_optimize_result(\n"
     ]
    },
    {
     "name": "stdout",
     "output_type": "stream",
     "text": [
      "[CV] END .................................................... total time=   1.2s\n"
     ]
    },
    {
     "name": "stderr",
     "output_type": "stream",
     "text": [
      "C:\\Users\\Nina\\anaconda3\\lib\\site-packages\\sklearn\\linear_model\\_logistic.py:763: ConvergenceWarning: lbfgs failed to converge (status=1):\n",
      "STOP: TOTAL NO. of ITERATIONS REACHED LIMIT.\n",
      "\n",
      "Increase the number of iterations (max_iter) or scale the data as shown in:\n",
      "    https://scikit-learn.org/stable/modules/preprocessing.html\n",
      "Please also refer to the documentation for alternative solver options:\n",
      "    https://scikit-learn.org/stable/modules/linear_model.html#logistic-regression\n",
      "  n_iter_i = _check_optimize_result(\n"
     ]
    }
   ],
   "source": [
    "model = grid_search.fit(X_train, y_train)"
   ]
  },
  {
   "cell_type": "code",
   "execution_count": 30,
   "id": "849bd7eb",
   "metadata": {},
   "outputs": [],
   "source": [
    "y_preds = model.predict(X_test)"
   ]
  },
  {
   "cell_type": "code",
   "execution_count": 31,
   "id": "20ab8945",
   "metadata": {},
   "outputs": [
    {
     "data": {
      "text/plain": [
       "0"
      ]
     },
     "execution_count": 31,
     "metadata": {},
     "output_type": "execute_result"
    }
   ],
   "source": [
    "y_preds[65] #Label, die das Model für das Testset vorhersagt"
   ]
  },
  {
   "cell_type": "code",
   "execution_count": 32,
   "id": "37b60bbf",
   "metadata": {},
   "outputs": [
    {
     "data": {
      "text/html": [
       "<div>\n",
       "<style scoped>\n",
       "    .dataframe tbody tr th:only-of-type {\n",
       "        vertical-align: middle;\n",
       "    }\n",
       "\n",
       "    .dataframe tbody tr th {\n",
       "        vertical-align: top;\n",
       "    }\n",
       "\n",
       "    .dataframe thead th {\n",
       "        text-align: right;\n",
       "    }\n",
       "</style>\n",
       "<table border=\"1\" class=\"dataframe\">\n",
       "  <thead>\n",
       "    <tr style=\"text-align: right;\">\n",
       "      <th></th>\n",
       "      <th>label</th>\n",
       "    </tr>\n",
       "  </thead>\n",
       "  <tbody>\n",
       "    <tr>\n",
       "      <th>1560</th>\n",
       "      <td>2</td>\n",
       "    </tr>\n",
       "    <tr>\n",
       "      <th>212</th>\n",
       "      <td>2</td>\n",
       "    </tr>\n",
       "    <tr>\n",
       "      <th>1586</th>\n",
       "      <td>1</td>\n",
       "    </tr>\n",
       "    <tr>\n",
       "      <th>836</th>\n",
       "      <td>2</td>\n",
       "    </tr>\n",
       "    <tr>\n",
       "      <th>1245</th>\n",
       "      <td>0</td>\n",
       "    </tr>\n",
       "    <tr>\n",
       "      <th>...</th>\n",
       "      <td>...</td>\n",
       "    </tr>\n",
       "    <tr>\n",
       "      <th>84</th>\n",
       "      <td>2</td>\n",
       "    </tr>\n",
       "    <tr>\n",
       "      <th>1598</th>\n",
       "      <td>2</td>\n",
       "    </tr>\n",
       "    <tr>\n",
       "      <th>984</th>\n",
       "      <td>2</td>\n",
       "    </tr>\n",
       "    <tr>\n",
       "      <th>1179</th>\n",
       "      <td>1</td>\n",
       "    </tr>\n",
       "    <tr>\n",
       "      <th>1757</th>\n",
       "      <td>2</td>\n",
       "    </tr>\n",
       "  </tbody>\n",
       "</table>\n",
       "<p>530 rows × 1 columns</p>\n",
       "</div>"
      ],
      "text/plain": [
       "      label\n",
       "1560      2\n",
       "212       2\n",
       "1586      1\n",
       "836       2\n",
       "1245      0\n",
       "...     ...\n",
       "84        2\n",
       "1598      2\n",
       "984       2\n",
       "1179      1\n",
       "1757      2\n",
       "\n",
       "[530 rows x 1 columns]"
      ]
     },
     "execution_count": 32,
     "metadata": {},
     "output_type": "execute_result"
    }
   ],
   "source": [
    "pd.DataFrame(y_test)"
   ]
  },
  {
   "cell_type": "code",
   "execution_count": 33,
   "id": "07bfb619",
   "metadata": {},
   "outputs": [
    {
     "data": {
      "text/plain": [
       "610     2\n",
       "1163    0\n",
       "1096    2\n",
       "451     0\n",
       "490     2\n",
       "       ..\n",
       "1130    2\n",
       "1294    0\n",
       "860     0\n",
       "1459    0\n",
       "1126    1\n",
       "Name: label, Length: 1236, dtype: int32"
      ]
     },
     "execution_count": 33,
     "metadata": {},
     "output_type": "execute_result"
    }
   ],
   "source": [
    "y_train"
   ]
  },
  {
   "cell_type": "code",
   "execution_count": 34,
   "id": "64dd7d18",
   "metadata": {},
   "outputs": [
    {
     "data": {
      "text/plain": [
       "236"
      ]
     },
     "execution_count": 34,
     "metadata": {},
     "output_type": "execute_result"
    }
   ],
   "source": [
    "list(y_train).count(0)"
   ]
  },
  {
   "cell_type": "code",
   "execution_count": 35,
   "id": "290c94ed",
   "metadata": {},
   "outputs": [
    {
     "data": {
      "text/html": [
       "<div>\n",
       "<style scoped>\n",
       "    .dataframe tbody tr th:only-of-type {\n",
       "        vertical-align: middle;\n",
       "    }\n",
       "\n",
       "    .dataframe tbody tr th {\n",
       "        vertical-align: top;\n",
       "    }\n",
       "\n",
       "    .dataframe thead th {\n",
       "        text-align: right;\n",
       "    }\n",
       "</style>\n",
       "<table border=\"1\" class=\"dataframe\">\n",
       "  <thead>\n",
       "    <tr style=\"text-align: right;\">\n",
       "      <th></th>\n",
       "      <th>0</th>\n",
       "      <th>1</th>\n",
       "      <th>2</th>\n",
       "      <th>3</th>\n",
       "      <th>4</th>\n",
       "      <th>5</th>\n",
       "      <th>6</th>\n",
       "      <th>7</th>\n",
       "      <th>8</th>\n",
       "      <th>9</th>\n",
       "      <th>...</th>\n",
       "      <th>10533</th>\n",
       "      <th>10534</th>\n",
       "      <th>10535</th>\n",
       "      <th>10536</th>\n",
       "      <th>10537</th>\n",
       "      <th>10538</th>\n",
       "      <th>10539</th>\n",
       "      <th>10540</th>\n",
       "      <th>10541</th>\n",
       "      <th>10542</th>\n",
       "    </tr>\n",
       "  </thead>\n",
       "  <tbody>\n",
       "    <tr>\n",
       "      <th>1560</th>\n",
       "      <td>0.0</td>\n",
       "      <td>0.0</td>\n",
       "      <td>0.0</td>\n",
       "      <td>0.0</td>\n",
       "      <td>0.0</td>\n",
       "      <td>0.0</td>\n",
       "      <td>0.0</td>\n",
       "      <td>0.0</td>\n",
       "      <td>0.0</td>\n",
       "      <td>0.0</td>\n",
       "      <td>...</td>\n",
       "      <td>1.1529</td>\n",
       "      <td>1647.0</td>\n",
       "      <td>1647.0</td>\n",
       "      <td>340.0</td>\n",
       "      <td>340.0</td>\n",
       "      <td>127.0</td>\n",
       "      <td>0.128</td>\n",
       "      <td>0.178</td>\n",
       "      <td>0.694</td>\n",
       "      <td>0.9455</td>\n",
       "    </tr>\n",
       "    <tr>\n",
       "      <th>212</th>\n",
       "      <td>0.0</td>\n",
       "      <td>0.0</td>\n",
       "      <td>0.0</td>\n",
       "      <td>0.0</td>\n",
       "      <td>0.0</td>\n",
       "      <td>0.0</td>\n",
       "      <td>0.0</td>\n",
       "      <td>0.0</td>\n",
       "      <td>0.0</td>\n",
       "      <td>0.0</td>\n",
       "      <td>...</td>\n",
       "      <td>1.1935</td>\n",
       "      <td>146.0</td>\n",
       "      <td>146.0</td>\n",
       "      <td>31.0</td>\n",
       "      <td>31.0</td>\n",
       "      <td>24.0</td>\n",
       "      <td>0.293</td>\n",
       "      <td>0.175</td>\n",
       "      <td>0.532</td>\n",
       "      <td>-0.7456</td>\n",
       "    </tr>\n",
       "    <tr>\n",
       "      <th>1586</th>\n",
       "      <td>0.0</td>\n",
       "      <td>0.0</td>\n",
       "      <td>0.0</td>\n",
       "      <td>0.0</td>\n",
       "      <td>0.0</td>\n",
       "      <td>0.0</td>\n",
       "      <td>0.0</td>\n",
       "      <td>0.0</td>\n",
       "      <td>0.0</td>\n",
       "      <td>0.0</td>\n",
       "      <td>...</td>\n",
       "      <td>1.1715</td>\n",
       "      <td>4725.0</td>\n",
       "      <td>4725.0</td>\n",
       "      <td>898.0</td>\n",
       "      <td>898.0</td>\n",
       "      <td>175.0</td>\n",
       "      <td>0.244</td>\n",
       "      <td>0.089</td>\n",
       "      <td>0.667</td>\n",
       "      <td>-0.9997</td>\n",
       "    </tr>\n",
       "    <tr>\n",
       "      <th>836</th>\n",
       "      <td>0.0</td>\n",
       "      <td>0.0</td>\n",
       "      <td>0.0</td>\n",
       "      <td>0.0</td>\n",
       "      <td>0.0</td>\n",
       "      <td>0.0</td>\n",
       "      <td>0.0</td>\n",
       "      <td>0.0</td>\n",
       "      <td>0.0</td>\n",
       "      <td>0.0</td>\n",
       "      <td>...</td>\n",
       "      <td>1.0805</td>\n",
       "      <td>2754.0</td>\n",
       "      <td>2754.0</td>\n",
       "      <td>584.0</td>\n",
       "      <td>584.0</td>\n",
       "      <td>247.0</td>\n",
       "      <td>0.058</td>\n",
       "      <td>0.268</td>\n",
       "      <td>0.674</td>\n",
       "      <td>0.9995</td>\n",
       "    </tr>\n",
       "    <tr>\n",
       "      <th>1245</th>\n",
       "      <td>0.0</td>\n",
       "      <td>0.0</td>\n",
       "      <td>0.0</td>\n",
       "      <td>0.0</td>\n",
       "      <td>0.0</td>\n",
       "      <td>0.0</td>\n",
       "      <td>0.0</td>\n",
       "      <td>0.0</td>\n",
       "      <td>0.0</td>\n",
       "      <td>0.0</td>\n",
       "      <td>...</td>\n",
       "      <td>1.0826</td>\n",
       "      <td>1731.0</td>\n",
       "      <td>1731.0</td>\n",
       "      <td>351.0</td>\n",
       "      <td>351.0</td>\n",
       "      <td>184.0</td>\n",
       "      <td>0.060</td>\n",
       "      <td>0.158</td>\n",
       "      <td>0.782</td>\n",
       "      <td>0.9878</td>\n",
       "    </tr>\n",
       "    <tr>\n",
       "      <th>...</th>\n",
       "      <td>...</td>\n",
       "      <td>...</td>\n",
       "      <td>...</td>\n",
       "      <td>...</td>\n",
       "      <td>...</td>\n",
       "      <td>...</td>\n",
       "      <td>...</td>\n",
       "      <td>...</td>\n",
       "      <td>...</td>\n",
       "      <td>...</td>\n",
       "      <td>...</td>\n",
       "      <td>...</td>\n",
       "      <td>...</td>\n",
       "      <td>...</td>\n",
       "      <td>...</td>\n",
       "      <td>...</td>\n",
       "      <td>...</td>\n",
       "      <td>...</td>\n",
       "      <td>...</td>\n",
       "      <td>...</td>\n",
       "      <td>...</td>\n",
       "    </tr>\n",
       "    <tr>\n",
       "      <th>84</th>\n",
       "      <td>0.0</td>\n",
       "      <td>0.0</td>\n",
       "      <td>0.0</td>\n",
       "      <td>0.0</td>\n",
       "      <td>0.0</td>\n",
       "      <td>0.0</td>\n",
       "      <td>0.0</td>\n",
       "      <td>0.0</td>\n",
       "      <td>0.0</td>\n",
       "      <td>0.0</td>\n",
       "      <td>...</td>\n",
       "      <td>1.1359</td>\n",
       "      <td>1800.0</td>\n",
       "      <td>1800.0</td>\n",
       "      <td>368.0</td>\n",
       "      <td>368.0</td>\n",
       "      <td>196.0</td>\n",
       "      <td>0.149</td>\n",
       "      <td>0.135</td>\n",
       "      <td>0.716</td>\n",
       "      <td>-0.9374</td>\n",
       "    </tr>\n",
       "    <tr>\n",
       "      <th>1598</th>\n",
       "      <td>0.0</td>\n",
       "      <td>0.0</td>\n",
       "      <td>0.0</td>\n",
       "      <td>0.0</td>\n",
       "      <td>0.0</td>\n",
       "      <td>0.0</td>\n",
       "      <td>0.0</td>\n",
       "      <td>0.0</td>\n",
       "      <td>0.0</td>\n",
       "      <td>0.0</td>\n",
       "      <td>...</td>\n",
       "      <td>1.1832</td>\n",
       "      <td>7235.0</td>\n",
       "      <td>7235.0</td>\n",
       "      <td>1392.0</td>\n",
       "      <td>1392.0</td>\n",
       "      <td>150.0</td>\n",
       "      <td>0.153</td>\n",
       "      <td>0.142</td>\n",
       "      <td>0.706</td>\n",
       "      <td>-0.8971</td>\n",
       "    </tr>\n",
       "    <tr>\n",
       "      <th>984</th>\n",
       "      <td>0.0</td>\n",
       "      <td>0.0</td>\n",
       "      <td>0.0</td>\n",
       "      <td>0.0</td>\n",
       "      <td>0.0</td>\n",
       "      <td>0.0</td>\n",
       "      <td>0.0</td>\n",
       "      <td>0.0</td>\n",
       "      <td>0.0</td>\n",
       "      <td>0.0</td>\n",
       "      <td>...</td>\n",
       "      <td>1.1754</td>\n",
       "      <td>1635.0</td>\n",
       "      <td>1635.0</td>\n",
       "      <td>342.0</td>\n",
       "      <td>342.0</td>\n",
       "      <td>137.0</td>\n",
       "      <td>0.031</td>\n",
       "      <td>0.119</td>\n",
       "      <td>0.850</td>\n",
       "      <td>0.9843</td>\n",
       "    </tr>\n",
       "    <tr>\n",
       "      <th>1179</th>\n",
       "      <td>0.0</td>\n",
       "      <td>0.0</td>\n",
       "      <td>0.0</td>\n",
       "      <td>0.0</td>\n",
       "      <td>0.0</td>\n",
       "      <td>0.0</td>\n",
       "      <td>0.0</td>\n",
       "      <td>0.0</td>\n",
       "      <td>0.0</td>\n",
       "      <td>0.0</td>\n",
       "      <td>...</td>\n",
       "      <td>1.0874</td>\n",
       "      <td>1006.0</td>\n",
       "      <td>1006.0</td>\n",
       "      <td>206.0</td>\n",
       "      <td>206.0</td>\n",
       "      <td>90.0</td>\n",
       "      <td>0.103</td>\n",
       "      <td>0.017</td>\n",
       "      <td>0.880</td>\n",
       "      <td>-0.9600</td>\n",
       "    </tr>\n",
       "    <tr>\n",
       "      <th>1757</th>\n",
       "      <td>0.0</td>\n",
       "      <td>0.0</td>\n",
       "      <td>0.0</td>\n",
       "      <td>0.0</td>\n",
       "      <td>0.0</td>\n",
       "      <td>0.0</td>\n",
       "      <td>0.0</td>\n",
       "      <td>0.0</td>\n",
       "      <td>0.0</td>\n",
       "      <td>0.0</td>\n",
       "      <td>...</td>\n",
       "      <td>1.1729</td>\n",
       "      <td>2326.0</td>\n",
       "      <td>2326.0</td>\n",
       "      <td>457.0</td>\n",
       "      <td>457.0</td>\n",
       "      <td>114.0</td>\n",
       "      <td>0.030</td>\n",
       "      <td>0.264</td>\n",
       "      <td>0.706</td>\n",
       "      <td>0.9991</td>\n",
       "    </tr>\n",
       "  </tbody>\n",
       "</table>\n",
       "<p>530 rows × 10543 columns</p>\n",
       "</div>"
      ],
      "text/plain": [
       "      0      1      2      3      4      5      6      7      8      9      \\\n",
       "1560    0.0    0.0    0.0    0.0    0.0    0.0    0.0    0.0    0.0    0.0   \n",
       "212     0.0    0.0    0.0    0.0    0.0    0.0    0.0    0.0    0.0    0.0   \n",
       "1586    0.0    0.0    0.0    0.0    0.0    0.0    0.0    0.0    0.0    0.0   \n",
       "836     0.0    0.0    0.0    0.0    0.0    0.0    0.0    0.0    0.0    0.0   \n",
       "1245    0.0    0.0    0.0    0.0    0.0    0.0    0.0    0.0    0.0    0.0   \n",
       "...     ...    ...    ...    ...    ...    ...    ...    ...    ...    ...   \n",
       "84      0.0    0.0    0.0    0.0    0.0    0.0    0.0    0.0    0.0    0.0   \n",
       "1598    0.0    0.0    0.0    0.0    0.0    0.0    0.0    0.0    0.0    0.0   \n",
       "984     0.0    0.0    0.0    0.0    0.0    0.0    0.0    0.0    0.0    0.0   \n",
       "1179    0.0    0.0    0.0    0.0    0.0    0.0    0.0    0.0    0.0    0.0   \n",
       "1757    0.0    0.0    0.0    0.0    0.0    0.0    0.0    0.0    0.0    0.0   \n",
       "\n",
       "      ...   10533   10534   10535   10536   10537  10538  10539  10540  10541  \\\n",
       "1560  ...  1.1529  1647.0  1647.0   340.0   340.0  127.0  0.128  0.178  0.694   \n",
       "212   ...  1.1935   146.0   146.0    31.0    31.0   24.0  0.293  0.175  0.532   \n",
       "1586  ...  1.1715  4725.0  4725.0   898.0   898.0  175.0  0.244  0.089  0.667   \n",
       "836   ...  1.0805  2754.0  2754.0   584.0   584.0  247.0  0.058  0.268  0.674   \n",
       "1245  ...  1.0826  1731.0  1731.0   351.0   351.0  184.0  0.060  0.158  0.782   \n",
       "...   ...     ...     ...     ...     ...     ...    ...    ...    ...    ...   \n",
       "84    ...  1.1359  1800.0  1800.0   368.0   368.0  196.0  0.149  0.135  0.716   \n",
       "1598  ...  1.1832  7235.0  7235.0  1392.0  1392.0  150.0  0.153  0.142  0.706   \n",
       "984   ...  1.1754  1635.0  1635.0   342.0   342.0  137.0  0.031  0.119  0.850   \n",
       "1179  ...  1.0874  1006.0  1006.0   206.0   206.0   90.0  0.103  0.017  0.880   \n",
       "1757  ...  1.1729  2326.0  2326.0   457.0   457.0  114.0  0.030  0.264  0.706   \n",
       "\n",
       "       10542  \n",
       "1560  0.9455  \n",
       "212  -0.7456  \n",
       "1586 -0.9997  \n",
       "836   0.9995  \n",
       "1245  0.9878  \n",
       "...      ...  \n",
       "84   -0.9374  \n",
       "1598 -0.8971  \n",
       "984   0.9843  \n",
       "1179 -0.9600  \n",
       "1757  0.9991  \n",
       "\n",
       "[530 rows x 10543 columns]"
      ]
     },
     "execution_count": 35,
     "metadata": {},
     "output_type": "execute_result"
    }
   ],
   "source": [
    "X_test"
   ]
  },
  {
   "cell_type": "code",
   "execution_count": 36,
   "id": "4feecf32",
   "metadata": {},
   "outputs": [],
   "source": [
    "indices_test = list(X_test.index)"
   ]
  },
  {
   "cell_type": "code",
   "execution_count": 37,
   "id": "fd6bee0b",
   "metadata": {},
   "outputs": [],
   "source": [
    "def test_genre():\n",
    "    test_genre = []\n",
    "    for num in indices_test:\n",
    "        test_genre.append(data.genre[num])\n",
    "    return(test_genre)"
   ]
  },
  {
   "cell_type": "code",
   "execution_count": 38,
   "id": "ae867cab",
   "metadata": {},
   "outputs": [
    {
     "data": {
      "text/html": [
       "<div>\n",
       "<style scoped>\n",
       "    .dataframe tbody tr th:only-of-type {\n",
       "        vertical-align: middle;\n",
       "    }\n",
       "\n",
       "    .dataframe tbody tr th {\n",
       "        vertical-align: top;\n",
       "    }\n",
       "\n",
       "    .dataframe thead th {\n",
       "        text-align: right;\n",
       "    }\n",
       "</style>\n",
       "<table border=\"1\" class=\"dataframe\">\n",
       "  <thead>\n",
       "    <tr style=\"text-align: right;\">\n",
       "      <th></th>\n",
       "      <th>genre</th>\n",
       "    </tr>\n",
       "  </thead>\n",
       "  <tbody>\n",
       "    <tr>\n",
       "      <th>0</th>\n",
       "      <td>pop</td>\n",
       "    </tr>\n",
       "    <tr>\n",
       "      <th>1</th>\n",
       "      <td>edm</td>\n",
       "    </tr>\n",
       "    <tr>\n",
       "      <th>2</th>\n",
       "      <td>rap</td>\n",
       "    </tr>\n",
       "    <tr>\n",
       "      <th>3</th>\n",
       "      <td>r&amp;b</td>\n",
       "    </tr>\n",
       "    <tr>\n",
       "      <th>4</th>\n",
       "      <td>r&amp;b</td>\n",
       "    </tr>\n",
       "    <tr>\n",
       "      <th>...</th>\n",
       "      <td>...</td>\n",
       "    </tr>\n",
       "    <tr>\n",
       "      <th>525</th>\n",
       "      <td>rap</td>\n",
       "    </tr>\n",
       "    <tr>\n",
       "      <th>526</th>\n",
       "      <td>pop</td>\n",
       "    </tr>\n",
       "    <tr>\n",
       "      <th>527</th>\n",
       "      <td>edm</td>\n",
       "    </tr>\n",
       "    <tr>\n",
       "      <th>528</th>\n",
       "      <td>r&amp;b</td>\n",
       "    </tr>\n",
       "    <tr>\n",
       "      <th>529</th>\n",
       "      <td>pop</td>\n",
       "    </tr>\n",
       "  </tbody>\n",
       "</table>\n",
       "<p>530 rows × 1 columns</p>\n",
       "</div>"
      ],
      "text/plain": [
       "    genre\n",
       "0     pop\n",
       "1     edm\n",
       "2     rap\n",
       "3     r&b\n",
       "4     r&b\n",
       "..    ...\n",
       "525   rap\n",
       "526   pop\n",
       "527   edm\n",
       "528   r&b\n",
       "529   pop\n",
       "\n",
       "[530 rows x 1 columns]"
      ]
     },
     "execution_count": 38,
     "metadata": {},
     "output_type": "execute_result"
    }
   ],
   "source": [
    "pd.DataFrame({'genre': test_genre()})"
   ]
  },
  {
   "cell_type": "code",
   "execution_count": 39,
   "id": "381bd274",
   "metadata": {},
   "outputs": [
    {
     "data": {
      "image/png": "[encoded data removed]",
      "text/plain": [
       "<Figure size 1440x720 with 1 Axes>"
      ]
     },
     "metadata": {
      "needs_background": "light"
     },
     "output_type": "display_data"
    }
   ],
   "source": [
    "fig,ax = plt.subplots(figsize=(20,10))\n",
    "ax = seaborn.countplot(x='genre', data=pd.DataFrame({'genre': test_genre()})) #Genres im Testset"
   ]
  },
  {
   "cell_type": "code",
   "execution_count": 40,
   "id": "99cd1ab2",
   "metadata": {},
   "outputs": [
    {
     "data": {
      "image/png": "[encoded data removed]",
      "text/plain": [
       "<Figure size 1440x720 with 1 Axes>"
      ]
     },
     "metadata": {
      "needs_background": "light"
     },
     "output_type": "display_data"
    }
   ],
   "source": [
    "#genres im gesamten Dataset\n",
    "fig,ax = plt.subplots(figsize=(20,10))\n",
    "ax = seaborn.countplot(x='genre', data=pd.DataFrame({'genre': data.genre})) #Genres im Dataset"
   ]
  },
  {
   "cell_type": "code",
   "execution_count": 41,
   "id": "3611972d",
   "metadata": {},
   "outputs": [],
   "source": [
    "def test_artist():\n",
    "    test_artist = []\n",
    "    for num in indices_test:\n",
    "        test_artist.append(data.track_artist[num])\n",
    "    return(test_artist)"
   ]
  },
  {
   "cell_type": "code",
   "execution_count": 42,
   "id": "d0a0fe86",
   "metadata": {},
   "outputs": [
    {
     "data": {
      "text/plain": [
       "<AxesSubplot:ylabel='artist'>"
      ]
     },
     "execution_count": 42,
     "metadata": {},
     "output_type": "execute_result"
    },
    {
     "data": {
      "image/png": "[encoded data removed]",
      "text/plain": [
       "<Figure size 432x288 with 1 Axes>"
      ]
     },
     "metadata": {
      "needs_background": "light"
     },
     "output_type": "display_data"
    }
   ],
   "source": [
    "pd.DataFrame({'artist': test_artist()}).value_counts().head(10).plot(kind='barh') #die zehn häufigsten Interpreten im Testset"
   ]
  },
  {
   "cell_type": "code",
   "execution_count": 43,
   "id": "bc02c386",
   "metadata": {},
   "outputs": [],
   "source": [
    "def test_tempo():\n",
    "    test_tempo = []\n",
    "    for num in indices_test:\n",
    "        test_tempo.append(data.tempo[num])\n",
    "    return(test_tempo)"
   ]
  },
  {
   "cell_type": "code",
   "execution_count": 44,
   "id": "b8480354",
   "metadata": {},
   "outputs": [
    {
     "data": {
      "text/html": [
       "<div>\n",
       "<style scoped>\n",
       "    .dataframe tbody tr th:only-of-type {\n",
       "        vertical-align: middle;\n",
       "    }\n",
       "\n",
       "    .dataframe tbody tr th {\n",
       "        vertical-align: top;\n",
       "    }\n",
       "\n",
       "    .dataframe thead th {\n",
       "        text-align: right;\n",
       "    }\n",
       "</style>\n",
       "<table border=\"1\" class=\"dataframe\">\n",
       "  <thead>\n",
       "    <tr style=\"text-align: right;\">\n",
       "      <th></th>\n",
       "      <th>tempo</th>\n",
       "    </tr>\n",
       "  </thead>\n",
       "  <tbody>\n",
       "    <tr>\n",
       "      <th>0</th>\n",
       "      <td>101.997</td>\n",
       "    </tr>\n",
       "    <tr>\n",
       "      <th>1</th>\n",
       "      <td>126.055</td>\n",
       "    </tr>\n",
       "    <tr>\n",
       "      <th>2</th>\n",
       "      <td>130.073</td>\n",
       "    </tr>\n",
       "    <tr>\n",
       "      <th>3</th>\n",
       "      <td>109.869</td>\n",
       "    </tr>\n",
       "    <tr>\n",
       "      <th>4</th>\n",
       "      <td>144.011</td>\n",
       "    </tr>\n",
       "    <tr>\n",
       "      <th>...</th>\n",
       "      <td>...</td>\n",
       "    </tr>\n",
       "    <tr>\n",
       "      <th>525</th>\n",
       "      <td>168.119</td>\n",
       "    </tr>\n",
       "    <tr>\n",
       "      <th>526</th>\n",
       "      <td>119.002</td>\n",
       "    </tr>\n",
       "    <tr>\n",
       "      <th>527</th>\n",
       "      <td>97.926</td>\n",
       "    </tr>\n",
       "    <tr>\n",
       "      <th>528</th>\n",
       "      <td>122.006</td>\n",
       "    </tr>\n",
       "    <tr>\n",
       "      <th>529</th>\n",
       "      <td>84.803</td>\n",
       "    </tr>\n",
       "  </tbody>\n",
       "</table>\n",
       "<p>530 rows × 1 columns</p>\n",
       "</div>"
      ],
      "text/plain": [
       "       tempo\n",
       "0    101.997\n",
       "1    126.055\n",
       "2    130.073\n",
       "3    109.869\n",
       "4    144.011\n",
       "..       ...\n",
       "525  168.119\n",
       "526  119.002\n",
       "527   97.926\n",
       "528  122.006\n",
       "529   84.803\n",
       "\n",
       "[530 rows x 1 columns]"
      ]
     },
     "execution_count": 44,
     "metadata": {},
     "output_type": "execute_result"
    }
   ],
   "source": [
    "pd.DataFrame({'tempo': test_tempo()})"
   ]
  },
  {
   "cell_type": "code",
   "execution_count": 45,
   "id": "93049f9a",
   "metadata": {},
   "outputs": [
    {
     "data": {
      "image/png": "[encoded data removed]",
      "text/plain": [
       "<Figure size 432x288 with 1 Axes>"
      ]
     },
     "metadata": {
      "needs_background": "light"
     },
     "output_type": "display_data"
    }
   ],
   "source": [
    "x = list(range(530))\n",
    "y = test_tempo()\n",
    "plt.ylabel(\"Gesamttempo in BPM\")\n",
    "plt.xlabel(\"Songs aus dem Testset\")\n",
    "plt.plot(x, y) #Wertebreich vom Tempo\n",
    "plt.show()"
   ]
  },
  {
   "cell_type": "code",
   "execution_count": 46,
   "id": "49fe97aa",
   "metadata": {},
   "outputs": [],
   "source": [
    "def test_oth_features():\n",
    "    test_oth_features = []\n",
    "    for num in indices_test:\n",
    "        test_oth_features.append(other_features(lyrics[num]))\n",
    "    return(test_oth_features)"
   ]
  },
  {
   "cell_type": "code",
   "execution_count": 47,
   "id": "1829ace6",
   "metadata": {},
   "outputs": [
    {
     "data": {
      "text/html": [
       "<div>\n",
       "<style scoped>\n",
       "    .dataframe tbody tr th:only-of-type {\n",
       "        vertical-align: middle;\n",
       "    }\n",
       "\n",
       "    .dataframe tbody tr th {\n",
       "        vertical-align: top;\n",
       "    }\n",
       "\n",
       "    .dataframe thead th {\n",
       "        text-align: right;\n",
       "    }\n",
       "</style>\n",
       "<table border=\"1\" class=\"dataframe\">\n",
       "  <thead>\n",
       "    <tr style=\"text-align: right;\">\n",
       "      <th></th>\n",
       "      <th>oth_features</th>\n",
       "    </tr>\n",
       "  </thead>\n",
       "  <tbody>\n",
       "    <tr>\n",
       "      <th>0</th>\n",
       "      <td>[130.6, -235.8, 392, 1.1529, 1647, 1647, 340, ...</td>\n",
       "    </tr>\n",
       "    <tr>\n",
       "      <th>1</th>\n",
       "      <td>[10.6, 74.4, 37, 1.1935, 146, 146, 31, 31, 24,...</td>\n",
       "    </tr>\n",
       "    <tr>\n",
       "      <th>2</th>\n",
       "      <td>[348.5, -803.74, 1052, 1.1715, 4725, 4725, 898...</td>\n",
       "    </tr>\n",
       "    <tr>\n",
       "      <th>3</th>\n",
       "      <td>[224.9, -477.34, 631, 1.0805, 2754, 2754, 584,...</td>\n",
       "    </tr>\n",
       "    <tr>\n",
       "      <th>4</th>\n",
       "      <td>[134.1, -241.02, 380, 1.0826, 1731, 1731, 351,...</td>\n",
       "    </tr>\n",
       "    <tr>\n",
       "      <th>...</th>\n",
       "      <td>...</td>\n",
       "    </tr>\n",
       "    <tr>\n",
       "      <th>525</th>\n",
       "      <td>[141.3, -262.78, 418, 1.1359, 1800, 1800, 368,...</td>\n",
       "    </tr>\n",
       "    <tr>\n",
       "      <th>526</th>\n",
       "      <td>[541.3, -1306.14, 1647, 1.1832, 7235, 7235, 13...</td>\n",
       "    </tr>\n",
       "    <tr>\n",
       "      <th>527</th>\n",
       "      <td>[131.7, -239.73, 402, 1.1754, 1635, 1635, 342,...</td>\n",
       "    </tr>\n",
       "    <tr>\n",
       "      <th>528</th>\n",
       "      <td>[77.6, -94.25, 224, 1.0874, 1006, 1006, 206, 2...</td>\n",
       "    </tr>\n",
       "    <tr>\n",
       "      <th>529</th>\n",
       "      <td>[176.5, -356.25, 536, 1.1729, 2326, 2326, 457,...</td>\n",
       "    </tr>\n",
       "  </tbody>\n",
       "</table>\n",
       "<p>530 rows × 1 columns</p>\n",
       "</div>"
      ],
      "text/plain": [
       "                                          oth_features\n",
       "0    [130.6, -235.8, 392, 1.1529, 1647, 1647, 340, ...\n",
       "1    [10.6, 74.4, 37, 1.1935, 146, 146, 31, 31, 24,...\n",
       "2    [348.5, -803.74, 1052, 1.1715, 4725, 4725, 898...\n",
       "3    [224.9, -477.34, 631, 1.0805, 2754, 2754, 584,...\n",
       "4    [134.1, -241.02, 380, 1.0826, 1731, 1731, 351,...\n",
       "..                                                 ...\n",
       "525  [141.3, -262.78, 418, 1.1359, 1800, 1800, 368,...\n",
       "526  [541.3, -1306.14, 1647, 1.1832, 7235, 7235, 13...\n",
       "527  [131.7, -239.73, 402, 1.1754, 1635, 1635, 342,...\n",
       "528  [77.6, -94.25, 224, 1.0874, 1006, 1006, 206, 2...\n",
       "529  [176.5, -356.25, 536, 1.1729, 2326, 2326, 457,...\n",
       "\n",
       "[530 rows x 1 columns]"
      ]
     },
     "execution_count": 47,
     "metadata": {},
     "output_type": "execute_result"
    }
   ],
   "source": [
    "pd.DataFrame({'oth_features': test_oth_features()})"
   ]
  },
  {
   "cell_type": "code",
   "execution_count": 48,
   "id": "cfa327f0",
   "metadata": {},
   "outputs": [],
   "source": [
    "#gesamtes Dataset als Vergleich\n",
    "def oth_features():\n",
    "    oth_features = []\n",
    "    for num in list(data.index):\n",
    "        oth_features.append(other_features(lyrics[num]))\n",
    "    return(oth_features)"
   ]
  },
  {
   "cell_type": "code",
   "execution_count": 49,
   "id": "e03c116f",
   "metadata": {},
   "outputs": [],
   "source": [
    "#num_word = 7. Zahl in der Liste\n",
    "def test_num_words ():\n",
    "    num_words = []\n",
    "    for liste in test_oth_features():\n",
    "        num_words.append(liste[7])\n",
    "    return(num_words)"
   ]
  },
  {
   "cell_type": "code",
   "execution_count": 50,
   "id": "334c88a4",
   "metadata": {},
   "outputs": [],
   "source": [
    "#num_chars_total = 5. Zahl in der Liste\n",
    "def test_num_chars ():\n",
    "    num_chars = []\n",
    "    for liste in test_oth_features():\n",
    "        num_chars.append(liste[5])\n",
    "    return(num_chars)"
   ]
  },
  {
   "cell_type": "code",
   "execution_count": 51,
   "id": "ae1c524e",
   "metadata": {},
   "outputs": [
    {
     "data": {
      "text/plain": [
       "2738.4981132075472"
      ]
     },
     "execution_count": 51,
     "metadata": {},
     "output_type": "execute_result"
    }
   ],
   "source": [
    "#Durchschnitt\n",
    "sum(test_num_chars())/len(test_num_chars())"
   ]
  },
  {
   "cell_type": "code",
   "execution_count": 52,
   "id": "58fc9f72",
   "metadata": {},
   "outputs": [],
   "source": [
    "#gesamtes Dataset als Vergleich\n",
    "def num_chars ():\n",
    "    num_chars = []\n",
    "    for liste in oth_features():\n",
    "        num_chars.append(liste[5])\n",
    "    return(num_chars)"
   ]
  },
  {
   "cell_type": "code",
   "execution_count": 53,
   "id": "d6add8bf",
   "metadata": {},
   "outputs": [
    {
     "data": {
      "text/plain": [
       "2675.676670441676"
      ]
     },
     "execution_count": 53,
     "metadata": {},
     "output_type": "execute_result"
    }
   ],
   "source": [
    "#Durchschnitt des gesamten Datasets\n",
    "sum(num_chars())/len(num_chars())"
   ]
  },
  {
   "cell_type": "code",
   "execution_count": 54,
   "id": "ac5a8429",
   "metadata": {},
   "outputs": [],
   "source": [
    "#gesamtes Dataset als Vergleich\n",
    "def num_words ():\n",
    "    num_words = []\n",
    "    for liste in oth_features():\n",
    "        num_words.append(liste[7])\n",
    "    return(num_words)"
   ]
  },
  {
   "cell_type": "code",
   "execution_count": 55,
   "id": "67730739",
   "metadata": {},
   "outputs": [
    {
     "data": {
      "image/png": "[encoded data removed]",
      "text/plain": [
       "<Figure size 432x288 with 1 Axes>"
      ]
     },
     "metadata": {
      "needs_background": "light"
     },
     "output_type": "display_data"
    }
   ],
   "source": [
    "x = list(range(530))\n",
    "y = test_num_words()\n",
    "plt.ylabel(\"Gesamtanzahl der Wörter\")\n",
    "plt.xlabel(\"Songs aus dem Testset\")\n",
    "plt.plot(x, y) #Wertebreich Wortanzahl\n",
    "plt.show()"
   ]
  },
  {
   "cell_type": "code",
   "execution_count": 56,
   "id": "29f39a93",
   "metadata": {},
   "outputs": [
    {
     "data": {
      "text/plain": [
       "548.1811320754717"
      ]
     },
     "execution_count": 56,
     "metadata": {},
     "output_type": "execute_result"
    }
   ],
   "source": [
    "#Durchschnitt\n",
    "sum(test_num_words())/len(test_num_words())"
   ]
  },
  {
   "cell_type": "code",
   "execution_count": 57,
   "id": "3555a53a",
   "metadata": {},
   "outputs": [
    {
     "data": {
      "text/plain": [
       "532.3584371460929"
      ]
     },
     "execution_count": 57,
     "metadata": {},
     "output_type": "execute_result"
    }
   ],
   "source": [
    "#Durchschnitt gesamtes Dataset\n",
    "sum(num_words())/len(num_words())"
   ]
  },
  {
   "cell_type": "code",
   "execution_count": 58,
   "id": "81846bd4",
   "metadata": {},
   "outputs": [],
   "source": [
    "#sentiment['compound'] = 12. Zahl in der Liste\n",
    "def test_sentiment ():\n",
    "    sentiment = []\n",
    "    for liste in test_oth_features():\n",
    "        sentiment.append(liste[12])\n",
    "    return(sentiment)"
   ]
  },
  {
   "cell_type": "code",
   "execution_count": 59,
   "id": "d58da96c",
   "metadata": {},
   "outputs": [],
   "source": [
    "#gesamtes Dataset\n",
    "def sentiment ():\n",
    "    sentiment = []\n",
    "    for liste in oth_features():\n",
    "        sentiment.append(liste[12])\n",
    "    return(sentiment)"
   ]
  },
  {
   "cell_type": "code",
   "execution_count": 60,
   "id": "10775ed1",
   "metadata": {},
   "outputs": [],
   "source": [
    "#neg = []\n",
    "#for elem in test_sentiment():\n",
    "#    if elem >0: \n",
    "#        neg.append(elem)\n",
    "#    print(len(neg))\n",
    "#285 (54%)"
   ]
  },
  {
   "cell_type": "code",
   "execution_count": 61,
   "id": "e9f15d92",
   "metadata": {},
   "outputs": [],
   "source": [
    "#gesamtes Dataset\n",
    "#neg_ = []\n",
    "#for elem in sentiment():\n",
    "#    if elem >0: \n",
    "#        neg_.append(elem)\n",
    "#    print(len(neg_))\n",
    "#917 (52%)"
   ]
  },
  {
   "cell_type": "code",
   "execution_count": 62,
   "id": "17e9e6ff",
   "metadata": {},
   "outputs": [],
   "source": [
    "#pos = []\n",
    "#for elem in test_sentiment():\n",
    "#    if elem <0: \n",
    "#        pos.append(elem)\n",
    "#        print(len(pos))\n",
    "#243 (46%)"
   ]
  },
  {
   "cell_type": "code",
   "execution_count": 63,
   "id": "e17dc62b",
   "metadata": {},
   "outputs": [],
   "source": [
    "#neu = []\n",
    "#for elem in test_sentiment():\n",
    "#    if elem ==0: \n",
    "#        neu.append(elem)\n",
    "#    print(len(neu))\n",
    "#2 (0,4%)"
   ]
  },
  {
   "cell_type": "code",
   "execution_count": 64,
   "id": "53208eab",
   "metadata": {},
   "outputs": [
    {
     "data": {
      "text/html": [
       "<div>\n",
       "<style scoped>\n",
       "    .dataframe tbody tr th:only-of-type {\n",
       "        vertical-align: middle;\n",
       "    }\n",
       "\n",
       "    .dataframe tbody tr th {\n",
       "        vertical-align: top;\n",
       "    }\n",
       "\n",
       "    .dataframe thead th {\n",
       "        text-align: right;\n",
       "    }\n",
       "</style>\n",
       "<table border=\"1\" class=\"dataframe\">\n",
       "  <thead>\n",
       "    <tr style=\"text-align: right;\">\n",
       "      <th></th>\n",
       "      <th>0</th>\n",
       "      <th>1</th>\n",
       "      <th>2</th>\n",
       "      <th>3</th>\n",
       "      <th>4</th>\n",
       "      <th>5</th>\n",
       "      <th>6</th>\n",
       "      <th>7</th>\n",
       "      <th>8</th>\n",
       "      <th>9</th>\n",
       "      <th>...</th>\n",
       "      <th>10533</th>\n",
       "      <th>10534</th>\n",
       "      <th>10535</th>\n",
       "      <th>10536</th>\n",
       "      <th>10537</th>\n",
       "      <th>10538</th>\n",
       "      <th>10539</th>\n",
       "      <th>10540</th>\n",
       "      <th>10541</th>\n",
       "      <th>10542</th>\n",
       "    </tr>\n",
       "  </thead>\n",
       "  <tbody>\n",
       "    <tr>\n",
       "      <th>610</th>\n",
       "      <td>0.0</td>\n",
       "      <td>0.0</td>\n",
       "      <td>0.0</td>\n",
       "      <td>0.0</td>\n",
       "      <td>0.0</td>\n",
       "      <td>0.0</td>\n",
       "      <td>0.0</td>\n",
       "      <td>0.0</td>\n",
       "      <td>0.0</td>\n",
       "      <td>0.0</td>\n",
       "      <td>...</td>\n",
       "      <td>1.2440</td>\n",
       "      <td>1795.0</td>\n",
       "      <td>1795.0</td>\n",
       "      <td>336.0</td>\n",
       "      <td>336.0</td>\n",
       "      <td>77.0</td>\n",
       "      <td>0.091</td>\n",
       "      <td>0.087</td>\n",
       "      <td>0.822</td>\n",
       "      <td>-0.6877</td>\n",
       "    </tr>\n",
       "    <tr>\n",
       "      <th>1163</th>\n",
       "      <td>0.0</td>\n",
       "      <td>0.0</td>\n",
       "      <td>0.0</td>\n",
       "      <td>0.0</td>\n",
       "      <td>0.0</td>\n",
       "      <td>0.0</td>\n",
       "      <td>0.0</td>\n",
       "      <td>0.0</td>\n",
       "      <td>0.0</td>\n",
       "      <td>0.0</td>\n",
       "      <td>...</td>\n",
       "      <td>1.1189</td>\n",
       "      <td>2823.0</td>\n",
       "      <td>2823.0</td>\n",
       "      <td>572.0</td>\n",
       "      <td>572.0</td>\n",
       "      <td>202.0</td>\n",
       "      <td>0.056</td>\n",
       "      <td>0.044</td>\n",
       "      <td>0.900</td>\n",
       "      <td>-0.8424</td>\n",
       "    </tr>\n",
       "    <tr>\n",
       "      <th>1096</th>\n",
       "      <td>0.0</td>\n",
       "      <td>0.0</td>\n",
       "      <td>0.0</td>\n",
       "      <td>0.0</td>\n",
       "      <td>0.0</td>\n",
       "      <td>0.0</td>\n",
       "      <td>0.0</td>\n",
       "      <td>0.0</td>\n",
       "      <td>0.0</td>\n",
       "      <td>0.0</td>\n",
       "      <td>...</td>\n",
       "      <td>1.0000</td>\n",
       "      <td>804.0</td>\n",
       "      <td>804.0</td>\n",
       "      <td>205.0</td>\n",
       "      <td>205.0</td>\n",
       "      <td>12.0</td>\n",
       "      <td>0.000</td>\n",
       "      <td>0.029</td>\n",
       "      <td>0.971</td>\n",
       "      <td>0.4717</td>\n",
       "    </tr>\n",
       "    <tr>\n",
       "      <th>451</th>\n",
       "      <td>0.0</td>\n",
       "      <td>0.0</td>\n",
       "      <td>0.0</td>\n",
       "      <td>0.0</td>\n",
       "      <td>0.0</td>\n",
       "      <td>0.0</td>\n",
       "      <td>0.0</td>\n",
       "      <td>0.0</td>\n",
       "      <td>0.0</td>\n",
       "      <td>0.0</td>\n",
       "      <td>...</td>\n",
       "      <td>1.2040</td>\n",
       "      <td>2253.0</td>\n",
       "      <td>2253.0</td>\n",
       "      <td>446.0</td>\n",
       "      <td>446.0</td>\n",
       "      <td>247.0</td>\n",
       "      <td>0.153</td>\n",
       "      <td>0.125</td>\n",
       "      <td>0.722</td>\n",
       "      <td>-0.9691</td>\n",
       "    </tr>\n",
       "    <tr>\n",
       "      <th>490</th>\n",
       "      <td>0.0</td>\n",
       "      <td>0.0</td>\n",
       "      <td>0.0</td>\n",
       "      <td>0.0</td>\n",
       "      <td>0.0</td>\n",
       "      <td>0.0</td>\n",
       "      <td>0.0</td>\n",
       "      <td>0.0</td>\n",
       "      <td>0.0</td>\n",
       "      <td>0.0</td>\n",
       "      <td>...</td>\n",
       "      <td>1.1494</td>\n",
       "      <td>1627.0</td>\n",
       "      <td>1627.0</td>\n",
       "      <td>328.0</td>\n",
       "      <td>328.0</td>\n",
       "      <td>112.0</td>\n",
       "      <td>0.044</td>\n",
       "      <td>0.082</td>\n",
       "      <td>0.874</td>\n",
       "      <td>0.9122</td>\n",
       "    </tr>\n",
       "    <tr>\n",
       "      <th>...</th>\n",
       "      <td>...</td>\n",
       "      <td>...</td>\n",
       "      <td>...</td>\n",
       "      <td>...</td>\n",
       "      <td>...</td>\n",
       "      <td>...</td>\n",
       "      <td>...</td>\n",
       "      <td>...</td>\n",
       "      <td>...</td>\n",
       "      <td>...</td>\n",
       "      <td>...</td>\n",
       "      <td>...</td>\n",
       "      <td>...</td>\n",
       "      <td>...</td>\n",
       "      <td>...</td>\n",
       "      <td>...</td>\n",
       "      <td>...</td>\n",
       "      <td>...</td>\n",
       "      <td>...</td>\n",
       "      <td>...</td>\n",
       "      <td>...</td>\n",
       "    </tr>\n",
       "    <tr>\n",
       "      <th>1130</th>\n",
       "      <td>0.0</td>\n",
       "      <td>0.0</td>\n",
       "      <td>0.0</td>\n",
       "      <td>0.0</td>\n",
       "      <td>0.0</td>\n",
       "      <td>0.0</td>\n",
       "      <td>0.0</td>\n",
       "      <td>0.0</td>\n",
       "      <td>0.0</td>\n",
       "      <td>0.0</td>\n",
       "      <td>...</td>\n",
       "      <td>1.1225</td>\n",
       "      <td>2173.0</td>\n",
       "      <td>2173.0</td>\n",
       "      <td>457.0</td>\n",
       "      <td>457.0</td>\n",
       "      <td>111.0</td>\n",
       "      <td>0.059</td>\n",
       "      <td>0.117</td>\n",
       "      <td>0.824</td>\n",
       "      <td>0.9913</td>\n",
       "    </tr>\n",
       "    <tr>\n",
       "      <th>1294</th>\n",
       "      <td>0.0</td>\n",
       "      <td>0.0</td>\n",
       "      <td>0.0</td>\n",
       "      <td>0.0</td>\n",
       "      <td>0.0</td>\n",
       "      <td>0.0</td>\n",
       "      <td>0.0</td>\n",
       "      <td>0.0</td>\n",
       "      <td>0.0</td>\n",
       "      <td>0.0</td>\n",
       "      <td>...</td>\n",
       "      <td>1.2012</td>\n",
       "      <td>3555.0</td>\n",
       "      <td>3555.0</td>\n",
       "      <td>686.0</td>\n",
       "      <td>686.0</td>\n",
       "      <td>363.0</td>\n",
       "      <td>0.134</td>\n",
       "      <td>0.077</td>\n",
       "      <td>0.789</td>\n",
       "      <td>-0.9945</td>\n",
       "    </tr>\n",
       "    <tr>\n",
       "      <th>860</th>\n",
       "      <td>0.0</td>\n",
       "      <td>0.0</td>\n",
       "      <td>0.0</td>\n",
       "      <td>0.0</td>\n",
       "      <td>0.0</td>\n",
       "      <td>0.0</td>\n",
       "      <td>0.0</td>\n",
       "      <td>0.0</td>\n",
       "      <td>0.0</td>\n",
       "      <td>0.0</td>\n",
       "      <td>...</td>\n",
       "      <td>1.2892</td>\n",
       "      <td>2661.0</td>\n",
       "      <td>2661.0</td>\n",
       "      <td>491.0</td>\n",
       "      <td>491.0</td>\n",
       "      <td>223.0</td>\n",
       "      <td>0.096</td>\n",
       "      <td>0.075</td>\n",
       "      <td>0.829</td>\n",
       "      <td>-0.9163</td>\n",
       "    </tr>\n",
       "    <tr>\n",
       "      <th>1459</th>\n",
       "      <td>0.0</td>\n",
       "      <td>0.0</td>\n",
       "      <td>0.0</td>\n",
       "      <td>0.0</td>\n",
       "      <td>0.0</td>\n",
       "      <td>0.0</td>\n",
       "      <td>0.0</td>\n",
       "      <td>0.0</td>\n",
       "      <td>0.0</td>\n",
       "      <td>0.0</td>\n",
       "      <td>...</td>\n",
       "      <td>1.1930</td>\n",
       "      <td>1396.0</td>\n",
       "      <td>1396.0</td>\n",
       "      <td>285.0</td>\n",
       "      <td>285.0</td>\n",
       "      <td>87.0</td>\n",
       "      <td>0.021</td>\n",
       "      <td>0.288</td>\n",
       "      <td>0.690</td>\n",
       "      <td>0.9980</td>\n",
       "    </tr>\n",
       "    <tr>\n",
       "      <th>1126</th>\n",
       "      <td>0.0</td>\n",
       "      <td>0.0</td>\n",
       "      <td>0.0</td>\n",
       "      <td>0.0</td>\n",
       "      <td>0.0</td>\n",
       "      <td>0.0</td>\n",
       "      <td>0.0</td>\n",
       "      <td>0.0</td>\n",
       "      <td>0.0</td>\n",
       "      <td>0.0</td>\n",
       "      <td>...</td>\n",
       "      <td>1.2314</td>\n",
       "      <td>2641.0</td>\n",
       "      <td>2642.0</td>\n",
       "      <td>510.0</td>\n",
       "      <td>510.0</td>\n",
       "      <td>122.0</td>\n",
       "      <td>0.021</td>\n",
       "      <td>0.226</td>\n",
       "      <td>0.754</td>\n",
       "      <td>0.9983</td>\n",
       "    </tr>\n",
       "  </tbody>\n",
       "</table>\n",
       "<p>1236 rows × 10543 columns</p>\n",
       "</div>"
      ],
      "text/plain": [
       "      0      1      2      3      4      5      6      7      8      9      \\\n",
       "610     0.0    0.0    0.0    0.0    0.0    0.0    0.0    0.0    0.0    0.0   \n",
       "1163    0.0    0.0    0.0    0.0    0.0    0.0    0.0    0.0    0.0    0.0   \n",
       "1096    0.0    0.0    0.0    0.0    0.0    0.0    0.0    0.0    0.0    0.0   \n",
       "451     0.0    0.0    0.0    0.0    0.0    0.0    0.0    0.0    0.0    0.0   \n",
       "490     0.0    0.0    0.0    0.0    0.0    0.0    0.0    0.0    0.0    0.0   \n",
       "...     ...    ...    ...    ...    ...    ...    ...    ...    ...    ...   \n",
       "1130    0.0    0.0    0.0    0.0    0.0    0.0    0.0    0.0    0.0    0.0   \n",
       "1294    0.0    0.0    0.0    0.0    0.0    0.0    0.0    0.0    0.0    0.0   \n",
       "860     0.0    0.0    0.0    0.0    0.0    0.0    0.0    0.0    0.0    0.0   \n",
       "1459    0.0    0.0    0.0    0.0    0.0    0.0    0.0    0.0    0.0    0.0   \n",
       "1126    0.0    0.0    0.0    0.0    0.0    0.0    0.0    0.0    0.0    0.0   \n",
       "\n",
       "      ...   10533   10534   10535  10536  10537  10538  10539  10540  10541  \\\n",
       "610   ...  1.2440  1795.0  1795.0  336.0  336.0   77.0  0.091  0.087  0.822   \n",
       "1163  ...  1.1189  2823.0  2823.0  572.0  572.0  202.0  0.056  0.044  0.900   \n",
       "1096  ...  1.0000   804.0   804.0  205.0  205.0   12.0  0.000  0.029  0.971   \n",
       "451   ...  1.2040  2253.0  2253.0  446.0  446.0  247.0  0.153  0.125  0.722   \n",
       "490   ...  1.1494  1627.0  1627.0  328.0  328.0  112.0  0.044  0.082  0.874   \n",
       "...   ...     ...     ...     ...    ...    ...    ...    ...    ...    ...   \n",
       "1130  ...  1.1225  2173.0  2173.0  457.0  457.0  111.0  0.059  0.117  0.824   \n",
       "1294  ...  1.2012  3555.0  3555.0  686.0  686.0  363.0  0.134  0.077  0.789   \n",
       "860   ...  1.2892  2661.0  2661.0  491.0  491.0  223.0  0.096  0.075  0.829   \n",
       "1459  ...  1.1930  1396.0  1396.0  285.0  285.0   87.0  0.021  0.288  0.690   \n",
       "1126  ...  1.2314  2641.0  2642.0  510.0  510.0  122.0  0.021  0.226  0.754   \n",
       "\n",
       "       10542  \n",
       "610  -0.6877  \n",
       "1163 -0.8424  \n",
       "1096  0.4717  \n",
       "451  -0.9691  \n",
       "490   0.9122  \n",
       "...      ...  \n",
       "1130  0.9913  \n",
       "1294 -0.9945  \n",
       "860  -0.9163  \n",
       "1459  0.9980  \n",
       "1126  0.9983  \n",
       "\n",
       "[1236 rows x 10543 columns]"
      ]
     },
     "execution_count": 64,
     "metadata": {},
     "output_type": "execute_result"
    }
   ],
   "source": [
    "X_train"
   ]
  },
  {
   "cell_type": "markdown",
   "id": "a8f62880",
   "metadata": {},
   "source": [
    "## Evaluating the results"
   ]
  },
  {
   "cell_type": "code",
   "execution_count": 65,
   "id": "954636bb",
   "metadata": {},
   "outputs": [],
   "source": [
    "report = classification_report( y_test, y_preds )"
   ]
  },
  {
   "cell_type": "code",
   "execution_count": 66,
   "id": "f7e51f26",
   "metadata": {},
   "outputs": [
    {
     "name": "stdout",
     "output_type": "stream",
     "text": [
      "              precision    recall  f1-score   support\n",
      "\n",
      "           0       0.58      0.55      0.57        95\n",
      "           1       0.39      0.50      0.44       102\n",
      "           2       0.87      0.81      0.84       333\n",
      "\n",
      "    accuracy                           0.70       530\n",
      "   macro avg       0.61      0.62      0.61       530\n",
      "weighted avg       0.73      0.70      0.71       530\n",
      "\n"
     ]
    }
   ],
   "source": [
    "print(report) #das ist für das Testset"
   ]
  },
  {
   "cell_type": "markdown",
   "id": "6955dfd6",
   "metadata": {},
   "source": [
    "Pecision = Wie viele der vom System erkannten Beispiele sind tatsächlich „positiv“?,\n",
    "Recall = Wie viele der positiven Beispiele werden vom System erkannt?,\n",
    "F1-Score = je höher der F1-Score, desto besser die Harmonik zwischen Precision und Recall,\n",
    "support = Vorkommen der vorhergesagten Label im Testset"
   ]
  },
  {
   "cell_type": "code",
   "execution_count": 67,
   "id": "af4aa95d",
   "metadata": {},
   "outputs": [
    {
     "data": {
      "image/png": "[encoded data removed]",
      "text/plain": [
       "<Figure size 360x360 with 1 Axes>"
      ]
     },
     "metadata": {
      "needs_background": "light"
     },
     "output_type": "display_data"
    }
   ],
   "source": [
    "from sklearn.metrics import confusion_matrix\n",
    "confusion_matrix = confusion_matrix(y_test,y_preds)\n",
    "matrix_proportions = np.zeros((3,3))\n",
    "for i in range(0,3):\n",
    "    matrix_proportions[i,:] = confusion_matrix[i,:]/float(confusion_matrix[i,:].sum())\n",
    "names=['Hate','Offensive','Neither']\n",
    "confusion_df = pd.DataFrame(matrix_proportions, index=names,columns=names)\n",
    "plt.figure(figsize=(5,5))\n",
    "seaborn.heatmap(confusion_df,annot=True,annot_kws={\"size\": 12},cmap='gist_gray_r',cbar=False, square=True,fmt='.2f')\n",
    "plt.ylabel(r'True categories',fontsize=14)\n",
    "plt.xlabel(r'Predicted categories',fontsize=14)\n",
    "plt.tick_params(labelsize=12)\n",
    "\n",
    "#Uncomment line below if you want to save the output\n",
    "#plt.savefig('confusion.pdf')"
   ]
  },
  {
   "cell_type": "code",
   "execution_count": 75,
   "id": "0b766523",
   "metadata": {},
   "outputs": [
    {
     "data": {
      "text/plain": [
       "<AxesSubplot:>"
      ]
     },
     "execution_count": 75,
     "metadata": {},
     "output_type": "execute_result"
    },
    {
     "data": {
      "image/png": "[encoded data removed]",
      "text/plain": [
       "<Figure size 432x288 with 1 Axes>"
      ]
     },
     "metadata": {
      "needs_background": "light"
     },
     "output_type": "display_data"
    }
   ],
   "source": [
    "#True distribution\n",
    "y.hist() #wahre Label, bezieht sich auf das Trainingsset"
   ]
  },
  {
   "cell_type": "code",
   "execution_count": 71,
   "id": "8bb52a7b",
   "metadata": {},
   "outputs": [
    {
     "data": {
      "text/plain": [
       "<AxesSubplot:>"
      ]
     },
     "execution_count": 71,
     "metadata": {},
     "output_type": "execute_result"
    },
    {
     "data": {
      "image/png": "[encoded data removed]",
      "text/plain": [
       "<Figure size 432x288 with 1 Axes>"
      ]
     },
     "metadata": {
      "needs_background": "light"
     },
     "output_type": "display_data"
    }
   ],
   "source": [
    "pd.Series(y_preds).hist() #vorhergesagte Label, bezieht sich auf das Testset"
   ]
  },
  {
   "cell_type": "code",
   "execution_count": null,
   "id": "9359a9c9",
   "metadata": {},
   "outputs": [],
   "source": []
  }
 ],
 "metadata": {
  "kernelspec": {
   "display_name": "Python 3",
   "language": "python",
   "name": "python3"
  },
  "language_info": {
   "codemirror_mode": {
    "name": "ipython",
    "version": 3
   },
   "file_extension": ".py",
   "mimetype": "text/x-python",
   "name": "python",
   "nbconvert_exporter": "python",
   "pygments_lexer": "ipython3",
   "version": "3.8.8"
  }
 },
 "nbformat": 4,
 "nbformat_minor": 5
}
